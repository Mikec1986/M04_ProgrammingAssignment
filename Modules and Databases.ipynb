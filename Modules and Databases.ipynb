{
 "cells": [
  {
   "cell_type": "code",
   "execution_count": null,
   "id": "8f9b9446",
   "metadata": {},
   "outputs": [],
   "source": [
    "zoo.py\n",
    "#Michael Coughlin\n",
    "#9/14/23\n",
    "#A file that will define the function hours\n",
    "\n",
    "def hours():\n",
    "    print('Open 9-5 daily')"
   ]
  },
  {
   "cell_type": "code",
   "execution_count": 5,
   "id": "ed924dd5",
   "metadata": {},
   "outputs": [
    {
     "ename": "ModuleNotFoundError",
     "evalue": "No module named 'zoo'",
     "output_type": "error",
     "traceback": [
      "\u001b[1;31m---------------------------------------------------------------------------\u001b[0m",
      "\u001b[1;31mModuleNotFoundError\u001b[0m                       Traceback (most recent call last)",
      "Cell \u001b[1;32mIn[5], line 5\u001b[0m\n\u001b[0;32m      1\u001b[0m \u001b[38;5;66;03m#Michael Coughlin\u001b[39;00m\n\u001b[0;32m      2\u001b[0m \u001b[38;5;66;03m#9/14/23\u001b[39;00m\n\u001b[0;32m      3\u001b[0m \u001b[38;5;66;03m#A program that will import the zoo.py function called hours()\u001b[39;00m\n\u001b[1;32m----> 5\u001b[0m \u001b[38;5;28;01mfrom\u001b[39;00m \u001b[38;5;21;01mzoo\u001b[39;00m \u001b[38;5;28;01mimport\u001b[39;00m hours\n\u001b[0;32m      6\u001b[0m hours()\n",
      "\u001b[1;31mModuleNotFoundError\u001b[0m: No module named 'zoo'"
     ]
    }
   ],
   "source": [
    "#Michael Coughlin\n",
    "#9/14/23\n",
    "#A program that will import the zoo.py function called hours()\n",
    "\n",
    "from zoo import hours\n",
    "hours()"
   ]
  },
  {
   "cell_type": "code",
   "execution_count": 3,
   "id": "09f30ff8",
   "metadata": {
    "scrolled": true
   },
   "outputs": [
    {
     "ename": "ModuleNotFoundError",
     "evalue": "No module named 'zoo'",
     "output_type": "error",
     "traceback": [
      "\u001b[1;31m---------------------------------------------------------------------------\u001b[0m",
      "\u001b[1;31mModuleNotFoundError\u001b[0m                       Traceback (most recent call last)",
      "Cell \u001b[1;32mIn[3], line 5\u001b[0m\n\u001b[0;32m      1\u001b[0m \u001b[38;5;66;03m#Michael Coughlin\u001b[39;00m\n\u001b[0;32m      2\u001b[0m \u001b[38;5;66;03m#9/14/23\u001b[39;00m\n\u001b[0;32m      3\u001b[0m \u001b[38;5;66;03m#A program that will import the zoo.py as menagerie\u001b[39;00m\n\u001b[1;32m----> 5\u001b[0m \u001b[38;5;28;01mimport\u001b[39;00m \u001b[38;5;21;01mzoo\u001b[39;00m \u001b[38;5;28;01mas\u001b[39;00m \u001b[38;5;21;01mmenagerie\u001b[39;00m\n\u001b[0;32m      7\u001b[0m menagerie\u001b[38;5;241m.\u001b[39mhours()\n",
      "\u001b[1;31mModuleNotFoundError\u001b[0m: No module named 'zoo'"
     ]
    }
   ],
   "source": [
    "#Michael Coughlin\n",
    "#9/14/23\n",
    "#A program that will import the zoo.py as menagerie\n",
    "\n",
    "import zoo as menagerie\n",
    "\n",
    "menagerie.hours()"
   ]
  },
  {
   "cell_type": "code",
   "execution_count": null,
   "id": "f5f1ca3b",
   "metadata": {},
   "outputs": [],
   "source": [
    "#Michael Coughlin\n",
    "#9/15/2023\n",
    "#This program creates a sqlite3 database of books. Then it will organize the titles in alphabetical order.\n",
    "\n",
    "\n",
    "import sqlite3\n",
    "from sqlalchemy import create_engine, text\n",
    "\n",
    "conn = sqlite3.connect('books.db')\n",
    "curs = conn.cursor()\n",
    "#create the database\n",
    "curs.execute(\"CREATE TABLE IF NOT EXISTS books(title NVARCHAR(50), author NVARCHAR(50), year INT)\")\n",
    "\n",
    "#This will populate the database\n",
    "curs.executemany(\"\"\"INSERT INTO books (title, author, year) VALUES (?, ?, ?)\"\"\", [\n",
    "    (\"The Weirdstone of Brisingamen\", \"Alan Garner\", 1960),\n",
    "    (\"Perdido Street Station\", \"China Miéville\", 2000),\n",
    "    (\"Thud!\", \"Terry Pratchett\", 2005),\n",
    "    (\"The Spellman Files\", \"Lisa Lutz\", 2007),\n",
    "    (\"Small Gods\", \"Terry Pratchett\", 1992)\n",
    "])\n",
    "\n",
    "conn.commit()\n",
    "conn.close()\n",
    "\n",
    "#create the sqlalchemy engine\n",
    "engine = create_engine(\"sqlite:///books.db\")\n",
    "connection = engine.connect()\n",
    "#query to select title from database books organized by title\n",
    "query = text(\"SELECT title FROM books ORDER BY title\")\n",
    "#using the query on the database\n",
    "results = connection.execute(query)\n",
    "#prints each title\n",
    "for row in results:\n",
    "    print(row[0])\n",
    "\n",
    "connection.close()"
   ]
  }
 ],
 "metadata": {
  "kernelspec": {
   "display_name": "Python 3 (ipykernel)",
   "language": "python",
   "name": "python3"
  },
  "language_info": {
   "codemirror_mode": {
    "name": "ipython",
    "version": 3
   },
   "file_extension": ".py",
   "mimetype": "text/x-python",
   "name": "python",
   "nbconvert_exporter": "python",
   "pygments_lexer": "ipython3",
   "version": "3.11.4"
  }
 },
 "nbformat": 4,
 "nbformat_minor": 5
}
